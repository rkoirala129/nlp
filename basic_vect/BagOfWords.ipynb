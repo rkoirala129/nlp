{
  "nbformat": 4,
  "nbformat_minor": 0,
  "metadata": {
    "colab": {
      "name": "BagOfWords.ipynb",
      "provenance": [],
      "authorship_tag": "ABX9TyMRToGJZnnyIOVEldNPKjB4",
      "include_colab_link": true
    },
    "kernelspec": {
      "name": "python3",
      "display_name": "Python 3"
    },
    "language_info": {
      "name": "python"
    }
  },
  "cells": [
    {
      "cell_type": "markdown",
      "metadata": {
        "id": "view-in-github",
        "colab_type": "text"
      },
      "source": [
        "<a href=\"https://colab.research.google.com/github/rkoirala129/nlp/blob/main/basic_vect/BagOfWords.ipynb\" target=\"_parent\"><img src=\"https://colab.research.google.com/assets/colab-badge.svg\" alt=\"Open In Colab\"/></a>"
      ]
    },
    {
      "cell_type": "code",
      "execution_count": 1,
      "metadata": {
        "id": "nJmct1gQOQrv",
        "colab": {
          "base_uri": "https://localhost:8080/"
        },
        "outputId": "b22d28f2-2868-4afd-cb70-0c739f3614a2"
      },
      "outputs": [
        {
          "output_type": "stream",
          "name": "stdout",
          "text": [
            "Requirement already satisfied: scikit-learn in /usr/local/lib/python3.7/dist-packages (1.0.2)\n",
            "Requirement already satisfied: threadpoolctl>=2.0.0 in /usr/local/lib/python3.7/dist-packages (from scikit-learn) (3.0.0)\n",
            "Requirement already satisfied: numpy>=1.14.6 in /usr/local/lib/python3.7/dist-packages (from scikit-learn) (1.19.5)\n",
            "Requirement already satisfied: joblib>=0.11 in /usr/local/lib/python3.7/dist-packages (from scikit-learn) (1.1.0)\n",
            "Requirement already satisfied: scipy>=1.1.0 in /usr/local/lib/python3.7/dist-packages (from scikit-learn) (1.4.1)\n"
          ]
        }
      ],
      "source": [
        "!pip install scikit-learn"
      ]
    },
    {
      "cell_type": "code",
      "source": [
        "mydocs = [\"Welcome to NLP world.\",\"NLP is great\",\"World is ugly and sad.\"] \n",
        "mydocs_process = [doc.lower().replace(\".\",\"\") for doc in mydocs]\n",
        "mydocs_process"
      ],
      "metadata": {
        "colab": {
          "base_uri": "https://localhost:8080/"
        },
        "id": "MUgdb3ziFTEC",
        "outputId": "411946b1-07af-479b-bf17-d09a1e7ec5ea"
      },
      "execution_count": 2,
      "outputs": [
        {
          "output_type": "execute_result",
          "data": {
            "text/plain": [
              "['welcome to nlp world', 'nlp is great', 'world is ugly and sad']"
            ]
          },
          "metadata": {},
          "execution_count": 2
        }
      ]
    },
    {
      "cell_type": "code",
      "source": [
        "from sklearn.feature_extraction.text import CountVectorizer\n",
        "\n",
        "\n",
        "print(\"Our corpus: \", mydocs_process)\n",
        "\n",
        "count_vect = CountVectorizer()\n",
        "\n",
        "bow_rep = count_vect.fit_transform(mydocs_process)\n",
        "\n",
        "\n",
        "print(\"Our vocabulary: \", count_vect.vocabulary_)\n",
        "\n",
        "\n",
        "print(\"BoW representation for 'Welcome to NLP world': \", bow_rep[0].toarray())\n",
        "print(\"BoW representation for 'World is ugly and sad: \",bow_rep[2].toarray())\n",
        "\n",
        "newWord = count_vect.transform([\"Me and friend ate apple\"])\n",
        "print(\"Bow representation for 'Me and friend ate apple':\", newWord.toarray())"
      ],
      "metadata": {
        "colab": {
          "base_uri": "https://localhost:8080/"
        },
        "id": "63tpvikuFTHF",
        "outputId": "8301b863-1743-4a98-95d3-e6b321eec7ff"
      },
      "execution_count": 5,
      "outputs": [
        {
          "output_type": "stream",
          "name": "stdout",
          "text": [
            "Our corpus:  ['welcome to nlp world', 'nlp is great', 'world is ugly and sad']\n",
            "Our vocabulary:  {'welcome': 7, 'to': 5, 'nlp': 3, 'world': 8, 'is': 2, 'great': 1, 'ugly': 6, 'and': 0, 'sad': 4}\n",
            "BoW representation for 'Welcome to NLP world':  [[0 0 0 1 0 1 0 1 1]]\n",
            "BoW representation for 'World is ugly and sad:  [[1 0 1 0 1 0 1 0 1]]\n",
            "Bow representation for 'Me and friend ate apple': [[1 0 0 0 0 0 0 0 0]]\n"
          ]
        }
      ]
    },
    {
      "cell_type": "code",
      "source": [
        "count_vect = CountVectorizer(binary=True)\n",
        "count_vect.fit(mydocs_process)\n",
        "temp = count_vect.transform([\"Me and friend ate apple\"])\n",
        "print(\"Bow representation for 'Me and friend ate apple':\", temp.toarray())"
      ],
      "metadata": {
        "colab": {
          "base_uri": "https://localhost:8080/"
        },
        "id": "1NBzbUOSFTJp",
        "outputId": "f3a991f4-e3c3-49aa-a48d-f8fccdc6a9a6"
      },
      "execution_count": 6,
      "outputs": [
        {
          "output_type": "stream",
          "name": "stdout",
          "text": [
            "Bow representation for 'Me and friend ate apple': [[1 0 0 0 0 0 0 0 0]]\n"
          ]
        }
      ]
    }
  ]
}