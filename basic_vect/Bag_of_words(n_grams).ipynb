{
  "nbformat": 4,
  "nbformat_minor": 0,
  "metadata": {
    "colab": {
      "name": "Bag of words(n-grams).ipynb",
      "provenance": [],
      "authorship_tag": "ABX9TyOXkokxMRuV00MUrpbyO7cL",
      "include_colab_link": true
    },
    "kernelspec": {
      "name": "python3",
      "display_name": "Python 3"
    },
    "language_info": {
      "name": "python"
    }
  },
  "cells": [
    {
      "cell_type": "markdown",
      "metadata": {
        "id": "view-in-github",
        "colab_type": "text"
      },
      "source": [
        "<a href=\"https://colab.research.google.com/github/rkoirala129/nlp/blob/main/basic_vect/Bag_of_words(n_grams).ipynb\" target=\"_parent\"><img src=\"https://colab.research.google.com/assets/colab-badge.svg\" alt=\"Open In Colab\"/></a>"
      ]
    },
    {
      "cell_type": "code",
      "execution_count": 4,
      "metadata": {
        "colab": {
          "base_uri": "https://localhost:8080/"
        },
        "id": "0kjubsTAHcoX",
        "outputId": "c710eb2d-4bf6-4770-f22f-81c323620b23"
      },
      "outputs": [
        {
          "output_type": "execute_result",
          "data": {
            "text/plain": [
              "['welcome to nlp world', 'nlp is great', 'world is ugly and sad']"
            ]
          },
          "metadata": {},
          "execution_count": 4
        }
      ],
      "source": [
        "mydocs = [\"Welcome to NLP world.\",\"NLP is great\",\"World is ugly and sad.\"] \n",
        "mydocs_process = [doc.lower().replace(\".\",\"\") for doc in mydocs]\n",
        "mydocs_process"
      ]
    },
    {
      "cell_type": "code",
      "source": [
        "from sklearn.feature_extraction.text import CountVectorizer\n",
        "\n",
        "print(\"Our corpus: \", mydocs_process)\n",
        "\n",
        "#uni, bi, trigrams\n",
        "count_vect = CountVectorizer(ngram_range=(1,3))\n",
        "\n",
        "bow_rep = count_vect.fit_transform(mydocs_process)\n",
        "\n",
        "\n",
        "print(\"Our vocabulary: \", count_vect.vocabulary_)\n",
        "\n",
        "\n",
        "print(\"BoW representation for 'Welcome to NLP world': \", bow_rep[0].toarray())\n",
        "print(\"BoW representation for 'World is ugly and sad: \",bow_rep[2].toarray())\n",
        "\n",
        "newWord = count_vect.transform([\"Me and friend ate apple\"])\n",
        "print(\"Bow representation for 'Me and friend ate apple':\", newWord.toarray())"
      ],
      "metadata": {
        "colab": {
          "base_uri": "https://localhost:8080/"
        },
        "id": "0s06clvDHlxo",
        "outputId": "3ae7f527-5daf-456d-824e-5edcccf6555f"
      },
      "execution_count": 2,
      "outputs": [
        {
          "output_type": "stream",
          "name": "stdout",
          "text": [
            "Our corpus:  ['welcome to nlp world', 'nlp is great', 'world is ugly and sad']\n",
            "Our vocabulary:  {'welcome': 18, 'to': 12, 'nlp': 7, 'world': 21, 'welcome to': 19, 'to nlp': 13, 'nlp world': 10, 'welcome to nlp': 20, 'to nlp world': 14, 'is': 3, 'great': 2, 'nlp is': 8, 'is great': 4, 'nlp is great': 9, 'ugly': 15, 'and': 0, 'sad': 11, 'world is': 22, 'is ugly': 5, 'ugly and': 16, 'and sad': 1, 'world is ugly': 23, 'is ugly and': 6, 'ugly and sad': 17}\n",
            "BoW representation for 'Welcome to NLP world':  [[0 0 0 0 0 0 0 1 0 0 1 0 1 1 1 0 0 0 1 1 1 1 0 0]]\n",
            "BoW representation for 'World is ugly and sad:  [[1 1 0 1 0 1 1 0 0 0 0 1 0 0 0 1 1 1 0 0 0 1 1 1]]\n",
            "Bow representation for 'Me and friend ate apple': [[1 0 0 0 0 0 0 0 0 0 0 0 0 0 0 0 0 0 0 0 0 0 0 0]]\n"
          ]
        }
      ]
    },
    {
      "cell_type": "code",
      "source": [
        "from sklearn.feature_extraction.text import CountVectorizer\n",
        "\n",
        "print(\"Our corpus: \", mydocs_process)\n",
        "\n",
        "#uni, bi\n",
        "count_vect = CountVectorizer(ngram_range=(1,2))\n",
        "\n",
        "bow_rep = count_vect.fit_transform(mydocs_process)\n",
        "\n",
        "\n",
        "print(\"Our vocabulary: \", count_vect.vocabulary_)\n",
        "\n",
        "\n",
        "print(\"BoW representation for 'Welcome to NLP world': \", bow_rep[0].toarray())\n",
        "print(\"BoW representation for 'World is ugly and sad: \",bow_rep[2].toarray())\n",
        "\n",
        "newWord = count_vect.transform([\"Me and friend ate apple\"])\n",
        "print(\"Bow representation for 'Me and friend ate apple':\", newWord.toarray())"
      ],
      "metadata": {
        "colab": {
          "base_uri": "https://localhost:8080/"
        },
        "id": "jqeuBKK-IFs5",
        "outputId": "8310eb2a-559d-4154-a819-cb189dc8bb3d"
      },
      "execution_count": 6,
      "outputs": [
        {
          "output_type": "stream",
          "name": "stdout",
          "text": [
            "Our corpus:  ['welcome to nlp world', 'nlp is great', 'world is ugly and sad']\n",
            "Our vocabulary:  {'welcome': 14, 'to': 10, 'nlp': 6, 'world': 16, 'welcome to': 15, 'to nlp': 11, 'nlp world': 8, 'is': 3, 'great': 2, 'nlp is': 7, 'is great': 4, 'ugly': 12, 'and': 0, 'sad': 9, 'world is': 17, 'is ugly': 5, 'ugly and': 13, 'and sad': 1}\n",
            "BoW representation for 'Welcome to NLP world':  [[0 0 0 0 0 0 1 0 1 0 1 1 0 0 1 1 1 0]]\n",
            "BoW representation for 'World is ugly and sad:  [[1 1 0 1 0 1 0 0 0 1 0 0 1 1 0 0 1 1]]\n",
            "Bow representation for 'Me and friend ate apple': [[1 0 0 0 0 0 0 0 0 0 0 0 0 0 0 0 0 0]]\n"
          ]
        }
      ]
    },
    {
      "cell_type": "code",
      "source": [
        "from sklearn.feature_extraction.text import CountVectorizer\n",
        "\n",
        "print(\"Our corpus: \", mydocs_process)\n",
        "\n",
        "#uni gram - normal Bag of Word\n",
        "count_vect = CountVectorizer()\n",
        "\n",
        "bow_rep = count_vect.fit_transform(mydocs_process)\n",
        "\n",
        "\n",
        "print(\"Our vocabulary: \", count_vect.vocabulary_)\n",
        "\n",
        "\n",
        "print(\"BoW representation for 'Welcome to NLP world': \", bow_rep[0].toarray())\n",
        "print(\"BoW representation for 'World is ugly and sad: \",bow_rep[2].toarray())\n",
        "\n",
        "newWord = count_vect.transform([\"Me and friend ate apple\"])\n",
        "print(\"Bow representation for 'Me and friend ate apple':\", newWord.toarray())"
      ],
      "metadata": {
        "colab": {
          "base_uri": "https://localhost:8080/"
        },
        "id": "xVXn8wdtIdAa",
        "outputId": "5f5547cd-9ed4-4809-9886-348eb9016f9b"
      },
      "execution_count": 7,
      "outputs": [
        {
          "output_type": "stream",
          "name": "stdout",
          "text": [
            "Our corpus:  ['welcome to nlp world', 'nlp is great', 'world is ugly and sad']\n",
            "Our vocabulary:  {'welcome': 7, 'to': 5, 'nlp': 3, 'world': 8, 'is': 2, 'great': 1, 'ugly': 6, 'and': 0, 'sad': 4}\n",
            "BoW representation for 'Welcome to NLP world':  [[0 0 0 1 0 1 0 1 1]]\n",
            "BoW representation for 'World is ugly and sad:  [[1 0 1 0 1 0 1 0 1]]\n",
            "Bow representation for 'Me and friend ate apple': [[1 0 0 0 0 0 0 0 0]]\n"
          ]
        }
      ]
    },
    {
      "cell_type": "code",
      "source": [
        "from sklearn.feature_extraction.text import CountVectorizer\n",
        "\n",
        "print(\"Our corpus: \", mydocs_process)\n",
        "\n",
        "#Only bi-gram\n",
        "count_vect = CountVectorizer(ngram_range=(2,2))\n",
        "\n",
        "bow_rep = count_vect.fit_transform(mydocs_process)\n",
        "\n",
        "\n",
        "print(\"Our vocabulary: \", count_vect.vocabulary_)\n",
        "\n",
        "\n",
        "print(\"BoW representation for 'Welcome to NLP world': \", bow_rep[0].toarray())\n",
        "print(\"BoW representation for 'World is ugly and sad: \",bow_rep[2].toarray())\n",
        "\n",
        "newWord = count_vect.transform([\"Me and friend ate apple\"])\n",
        "print(\"Bow representation for 'Me and friend ate apple':\", newWord.toarray())"
      ],
      "metadata": {
        "colab": {
          "base_uri": "https://localhost:8080/"
        },
        "id": "YLJs0PqsI34s",
        "outputId": "25fbe70c-9739-4510-f574-6112d339a1de"
      },
      "execution_count": 11,
      "outputs": [
        {
          "output_type": "stream",
          "name": "stdout",
          "text": [
            "Our corpus:  ['welcome to nlp world', 'nlp is great', 'world is ugly and sad']\n",
            "Our vocabulary:  {'welcome to': 7, 'to nlp': 5, 'nlp world': 4, 'nlp is': 3, 'is great': 1, 'world is': 8, 'is ugly': 2, 'ugly and': 6, 'and sad': 0}\n",
            "BoW representation for 'Welcome to NLP world':  [[0 0 0 0 1 1 0 1 0]]\n",
            "BoW representation for 'World is ugly and sad:  [[1 0 1 0 0 0 1 0 1]]\n",
            "Bow representation for 'Me and friend ate apple': [[0 0 0 0 0 0 0 0 0]]\n"
          ]
        }
      ]
    }
  ]
}