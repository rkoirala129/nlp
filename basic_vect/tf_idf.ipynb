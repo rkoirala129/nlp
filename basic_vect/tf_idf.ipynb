{
  "nbformat": 4,
  "nbformat_minor": 0,
  "metadata": {
    "colab": {
      "name": "tf-idf.ipynb",
      "provenance": [],
      "authorship_tag": "ABX9TyN5H9gMbIG8+BtapOJ1ceB9",
      "include_colab_link": true
    },
    "kernelspec": {
      "name": "python3",
      "display_name": "Python 3"
    },
    "language_info": {
      "name": "python"
    }
  },
  "cells": [
    {
      "cell_type": "markdown",
      "metadata": {
        "id": "view-in-github",
        "colab_type": "text"
      },
      "source": [
        "<a href=\"https://colab.research.google.com/github/rkoirala129/nlp/blob/main/basic_vect/tf_idf.ipynb\" target=\"_parent\"><img src=\"https://colab.research.google.com/assets/colab-badge.svg\" alt=\"Open In Colab\"/></a>"
      ]
    },
    {
      "cell_type": "code",
      "execution_count": 1,
      "metadata": {
        "colab": {
          "base_uri": "https://localhost:8080/"
        },
        "id": "sNbo-aTFJvDk",
        "outputId": "6c651898-684b-4cc4-f452-1b00df60e595"
      },
      "outputs": [
        {
          "output_type": "execute_result",
          "data": {
            "text/plain": [
              "['welcome to nlp world', 'nlp is great', 'world is ugly and sad']"
            ]
          },
          "metadata": {},
          "execution_count": 1
        }
      ],
      "source": [
        "mydocs = [\"Welcome to NLP world.\",\"NLP is great\",\"World is ugly and sad.\"] \n",
        "mydocs_process = [doc.lower().replace(\".\",\"\") for doc in mydocs]\n",
        "mydocs_process"
      ]
    },
    {
      "cell_type": "code",
      "source": [
        "from sklearn.feature_extraction.text import TfidfVectorizer\n",
        "\n",
        "tf_idf = TfidfVectorizer()\n",
        "\n",
        "bow_tfidf = tf_idf.fit_transform(mydocs_process)\n",
        "\n",
        "#idf value of each word\n",
        "print(\"IDF for all words in the vocabulary\",tf_idf.idf_)\n",
        "\n",
        "\n",
        "#Words in vocab\n",
        "print(\"All words in the vocabulary\",tf_idf.get_feature_names_out())\n",
        "\n",
        "\n",
        "#tdidf of the whole corpus\n",
        "print(\"TFIDF representation for all documents in our corpus\\n\",bow_tfidf.toarray()) \n",
        "\n",
        "\n",
        "temp = tf_idf.transform([\"Me and friend ate apple\"])\n",
        "print(\"Tfidf representation for 'Me and friend ate apple':\\n\", temp.toarray())"
      ],
      "metadata": {
        "colab": {
          "base_uri": "https://localhost:8080/"
        },
        "id": "vDlRWw9UJ1es",
        "outputId": "08073eff-2dce-466e-9703-9296ffd08698"
      },
      "execution_count": 4,
      "outputs": [
        {
          "output_type": "stream",
          "name": "stdout",
          "text": [
            "IDF for all words in the vocabulary [1.69314718 1.69314718 1.28768207 1.28768207 1.69314718 1.69314718\n",
            " 1.69314718 1.69314718 1.28768207]\n",
            "All words in the vocabulary ['and' 'great' 'is' 'nlp' 'sad' 'to' 'ugly' 'welcome' 'world']\n",
            "TFIDF representation for all documents in our corpus\n",
            " [[0.         0.         0.         0.42804604 0.         0.5628291\n",
            "  0.         0.5628291  0.42804604]\n",
            " [0.         0.68091856 0.51785612 0.51785612 0.         0.\n",
            "  0.         0.         0.        ]\n",
            " [0.49047908 0.         0.37302199 0.         0.49047908 0.\n",
            "  0.49047908 0.         0.37302199]]\n",
            "Tfidf representation for 'Me and friend ate apple':\n",
            " [[1. 0. 0. 0. 0. 0. 0. 0. 0.]]\n"
          ]
        }
      ]
    }
  ]
}