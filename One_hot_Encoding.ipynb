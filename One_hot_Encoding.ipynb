{
  "nbformat": 4,
  "nbformat_minor": 0,
  "metadata": {
    "colab": {
      "name": "One hot Encoding.ipynb",
      "provenance": [],
      "authorship_tag": "ABX9TyNSlEnv3dgNishojZiJGpGQ",
      "include_colab_link": true
    },
    "kernelspec": {
      "name": "python3",
      "display_name": "Python 3"
    },
    "language_info": {
      "name": "python"
    }
  },
  "cells": [
    {
      "cell_type": "markdown",
      "metadata": {
        "id": "view-in-github",
        "colab_type": "text"
      },
      "source": [
        "<a href=\"https://colab.research.google.com/github/rkoirala129/nlp/blob/main/One_hot_Encoding.ipynb\" target=\"_parent\"><img src=\"https://colab.research.google.com/assets/colab-badge.svg\" alt=\"Open In Colab\"/></a>"
      ]
    },
    {
      "cell_type": "markdown",
      "source": [
        "**Without Scikit-Learn**"
      ],
      "metadata": {
        "id": "7EdcowCHyYMN"
      }
    },
    {
      "cell_type": "code",
      "execution_count": 1,
      "metadata": {
        "colab": {
          "base_uri": "https://localhost:8080/"
        },
        "id": "MxSTyCvsvWSl",
        "outputId": "48a64d87-9995-47fb-89fc-73e4a3d9acc8"
      },
      "outputs": [
        {
          "output_type": "stream",
          "name": "stdout",
          "text": [
            "Requirement already satisfied: scikit-learn in /usr/local/lib/python3.7/dist-packages (1.0.2)\n",
            "Requirement already satisfied: scipy>=1.1.0 in /usr/local/lib/python3.7/dist-packages (from scikit-learn) (1.4.1)\n",
            "Requirement already satisfied: numpy>=1.14.6 in /usr/local/lib/python3.7/dist-packages (from scikit-learn) (1.19.5)\n",
            "Requirement already satisfied: threadpoolctl>=2.0.0 in /usr/local/lib/python3.7/dist-packages (from scikit-learn) (3.0.0)\n",
            "Requirement already satisfied: joblib>=0.11 in /usr/local/lib/python3.7/dist-packages (from scikit-learn) (1.1.0)\n"
          ]
        }
      ],
      "source": [
        "!pip install scikit-learn\n"
      ]
    },
    {
      "cell_type": "code",
      "source": [
        "mydocs = [\"Welcome to NLP world.\",\"NLP is great\",\"World is ugly and sad.\"]\n",
        "mydocs_process = [doc.lower().replace(\".\",\"\") for doc in mydocs]\n",
        "mydocs_process"
      ],
      "metadata": {
        "colab": {
          "base_uri": "https://localhost:8080/"
        },
        "id": "Lak9BIzwv1hE",
        "outputId": "53e22059-bf06-47ca-e0e9-a85534d803ad"
      },
      "execution_count": 4,
      "outputs": [
        {
          "output_type": "execute_result",
          "data": {
            "text/plain": [
              "['welcome to nlp world', 'nlp is great', 'world is ugly and sad']"
            ]
          },
          "metadata": {},
          "execution_count": 4
        }
      ]
    },
    {
      "cell_type": "code",
      "source": [
        "myvocab = {}\n",
        "count = 0\n",
        "for doc in mydocs_process:\n",
        "    for word in doc.split():\n",
        "        if word not in myvocab:\n",
        "            count = count +1\n",
        "            myvocab[word] = count\n",
        "print(myvocab)"
      ],
      "metadata": {
        "colab": {
          "base_uri": "https://localhost:8080/"
        },
        "id": "luX3gvvZv1b_",
        "outputId": "edd8f5c1-f4f7-446a-846c-e906c8342fd1"
      },
      "execution_count": 5,
      "outputs": [
        {
          "output_type": "stream",
          "name": "stdout",
          "text": [
            "{'welcome': 1, 'to': 2, 'nlp': 3, 'world': 4, 'is': 5, 'great': 6, 'ugly': 7, 'and': 8, 'sad': 9}\n"
          ]
        }
      ]
    },
    {
      "cell_type": "code",
      "source": [
        "def derive_onehot_vector(anystring):\n",
        "    onehot_encoded = []\n",
        "    for word in anystring.split():\n",
        "        temp = [0]*len(myvocab)\n",
        "        if word in myvocab:\n",
        "            temp[myvocab[word]-1] = 1 # -1 is to take care of the fact indexing in array starts from 0 and not 1\n",
        "        onehot_encoded.append(temp)\n",
        "    return onehot_encoded"
      ],
      "metadata": {
        "id": "UbH0qWpNv1Yo"
      },
      "execution_count": 6,
      "outputs": []
    },
    {
      "cell_type": "code",
      "source": [
        "print(mydocs_process[0])\n",
        "derive_onehot_vector(mydocs_process[0]) "
      ],
      "metadata": {
        "colab": {
          "base_uri": "https://localhost:8080/"
        },
        "id": "cwILIGNCv1SU",
        "outputId": "4d1d350d-5184-4703-8b3b-160ba4ef3397"
      },
      "execution_count": 9,
      "outputs": [
        {
          "output_type": "stream",
          "name": "stdout",
          "text": [
            "welcome to nlp world\n"
          ]
        },
        {
          "output_type": "execute_result",
          "data": {
            "text/plain": [
              "[[1, 0, 0, 0, 0, 0, 0, 0, 0],\n",
              " [0, 1, 0, 0, 0, 0, 0, 0, 0],\n",
              " [0, 0, 1, 0, 0, 0, 0, 0, 0],\n",
              " [0, 0, 0, 1, 0, 0, 0, 0, 0]]"
            ]
          },
          "metadata": {},
          "execution_count": 9
        }
      ]
    },
    {
      "cell_type": "code",
      "source": [
        "derive_onehot_vector(\"I am the world\")#those words that are not available in the vocabulary will return vector with only 0's."
      ],
      "metadata": {
        "colab": {
          "base_uri": "https://localhost:8080/"
        },
        "id": "sGcO2ibDv1NA",
        "outputId": "4b1ffbaa-54a5-4294-876e-d2014e076595"
      },
      "execution_count": 10,
      "outputs": [
        {
          "output_type": "execute_result",
          "data": {
            "text/plain": [
              "[[0, 0, 0, 0, 0, 0, 0, 0, 0],\n",
              " [0, 0, 0, 0, 0, 0, 0, 0, 0],\n",
              " [0, 0, 0, 0, 0, 0, 0, 0, 0],\n",
              " [0, 0, 0, 1, 0, 0, 0, 0, 0]]"
            ]
          },
          "metadata": {},
          "execution_count": 10
        }
      ]
    },
    {
      "cell_type": "markdown",
      "source": [
        "**With Scikit Learn**"
      ],
      "metadata": {
        "id": "dTSzWiZ1yeIu"
      }
    },
    {
      "cell_type": "code",
      "source": [
        "d1 = \"Welcome to NLP.\"\n",
        "d2 = \"NLP is great\"\n",
        "d3 = \"World is ugly.\""
      ],
      "metadata": {
        "id": "yfwCGGkXv1EG"
      },
      "execution_count": 37,
      "outputs": []
    },
    {
      "cell_type": "code",
      "source": [
        "from sklearn.preprocessing import LabelEncoder, OneHotEncoder\n",
        "\n",
        "data = [d1.split(), d2.split(), d3.split()]\n",
        "values = data[0]+data[1]+data[2]\n",
        "print(\"The data: \",values)\n"
      ],
      "metadata": {
        "colab": {
          "base_uri": "https://localhost:8080/"
        },
        "id": "JmIwegp7v1AB",
        "outputId": "efdd3f4d-ac2f-4e26-dd23-38f5286bc5c0"
      },
      "execution_count": 38,
      "outputs": [
        {
          "output_type": "stream",
          "name": "stdout",
          "text": [
            "The data:  ['Welcome', 'to', 'NLP.', 'NLP', 'is', 'great', 'World', 'is', 'ugly.']\n"
          ]
        }
      ]
    },
    {
      "cell_type": "code",
      "source": [
        "#Label Encoding\n",
        "label_encoder = LabelEncoder()\n",
        "integer_encoded = label_encoder.fit_transform(values)\n",
        "print(\"Label Encoded:\",integer_encoded)"
      ],
      "metadata": {
        "colab": {
          "base_uri": "https://localhost:8080/"
        },
        "id": "JtS0aeQ_v04b",
        "outputId": "7bd0e535-fd4e-4bb0-acc5-546dfafae7b3"
      },
      "execution_count": 39,
      "outputs": [
        {
          "output_type": "stream",
          "name": "stdout",
          "text": [
            "Label Encoded: [2 6 1 0 5 4 3 5 7]\n"
          ]
        }
      ]
    },
    {
      "cell_type": "code",
      "source": [
        "#One-Hot Encoding\n",
        "onehot_encoder = OneHotEncoder()\n",
        "onehot_encoded = onehot_encoder.fit_transform(data).toarray()\n",
        "print(\"Onehot Encoded Matrix:\\n\",onehot_encoded)"
      ],
      "metadata": {
        "colab": {
          "base_uri": "https://localhost:8080/"
        },
        "id": "70UqLeEnv0qw",
        "outputId": "bd4b358e-ae1d-45a6-9176-0d17c3bad3b8"
      },
      "execution_count": 40,
      "outputs": [
        {
          "output_type": "stream",
          "name": "stdout",
          "text": [
            "Onehot Encoded Matrix:\n",
            " [[0. 1. 0. 0. 1. 1. 0. 0.]\n",
            " [1. 0. 0. 1. 0. 0. 1. 0.]\n",
            " [0. 0. 1. 1. 0. 0. 0. 1.]]\n"
          ]
        }
      ]
    }
  ]
}